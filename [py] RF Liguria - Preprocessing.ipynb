{
 "cells": [
  {
   "cell_type": "code",
   "execution_count": 7,
   "metadata": {},
   "outputs": [],
   "source": [
    "import os\n",
    "import rasterio as rio\n",
    "import numpy as np\n",
    "import geopandas as gpd\n",
    "import pandas as pd\n",
    "from osgeo import gdal\n",
    "import matplotlib.pyplot as plt\n",
    "from progressbar import ProgressBar\n",
    "\n",
    "from utils import *"
   ]
  },
  {
   "cell_type": "code",
   "execution_count": 8,
   "metadata": {},
   "outputs": [],
   "source": [
    "plt.rcParams[\"figure.figsize\"] = (28,10)\n",
    "plt.ion()"
   ]
  },
  {
   "cell_type": "code",
   "execution_count": 9,
   "metadata": {},
   "outputs": [],
   "source": [
    "data_dir = 'data_100m'\n",
    "\n",
    "dem_file            = f'{data_dir}/dem.tif'\n",
    "slope_file          = f'{data_dir}/slope.tif'\n",
    "aspect_file         = f'{data_dir}/aspect.tif'\n",
    "northing_file       = f'{data_dir}/northing.tif'\n",
    "easting_file        = f'{data_dir}/easting.tif'\n",
    "\n",
    "urban_distance_file = f'{data_dir}/urban_distance.tiff'\n",
    "roads_distance_file = f'{data_dir}/roads_distance.tiff'\n",
    "tracks_distance_file= f'{data_dir}/tracks_distance.tiff'\n",
    "crops_distance_file = f'{data_dir}/crops_distance.tiff'\n",
    "\n",
    "parks_raster_file = f'{data_dir}/parks.tiff'\n",
    "\n",
    "vegetation_agg_file = f'{data_dir}/vegetation_agg.tiff'\n",
    "vegetation_file     = f'{data_dir}/vegetation.tiff'\n",
    "vegetation_type_file     = f'{data_dir}/vegetation_type.tiff'\n",
    "\n",
    "\n",
    "fires_shp           = 'shapefiles/perimetrazioni_1997_2017.shp'\n",
    "vegetation_shp      = 'shapefiles/tipiforestali_marj.shp'\n",
    "roads_shp           = 'shapefiles/Tratte_stradali.shp'\n",
    "tracks_shp          = 'shapefiles/Rete_Escursionistica_Ligure.shp'\n",
    "parks_shp           = 'shapefiles/parchi_sic_zps_zonerilevanti2.shp'"
   ]
  },
  {
   "cell_type": "code",
   "execution_count": 10,
   "metadata": {},
   "outputs": [
    {
     "name": "stdout",
     "output_type": "stream",
     "text": [
      "Reading dem file data_100m/dem.tif\n"
     ]
    }
   ],
   "source": [
    "with rio.open(dem_file) as src:\n",
    "    print(f'Reading dem file {dem_file}')\n",
    "    dem = src.read(1)\n",
    "    dem[dem <= -9999] = np.NaN\n",
    "_, dx, _, _, _, dy = src.transform.to_gdal()    \n",
    "bbox = src.bounds"
   ]
  },
  {
   "cell_type": "markdown",
   "metadata": {},
   "source": [
    "## PREPROCESSING"
   ]
  },
  {
   "cell_type": "code",
   "execution_count": 11,
   "metadata": {},
   "outputs": [
    {
     "name": "stdout",
     "output_type": "stream",
     "text": [
      "Reading dem file data_100m/dem.tif\n"
     ]
    }
   ],
   "source": [
    "with rio.open(dem_file) as src:\n",
    "    print(f'Reading dem file {dem_file}')\n",
    "    dem = src.read(1)\n",
    "    dem[dem <= -9999] = np.NaN\n",
    "\n",
    "if not os.path.isfile(slope_file):\n",
    "    print(f'Creating slope file {slope_file}')\n",
    "    gdal.DEMProcessing(slope_file, dem_file, 'slope')\n",
    "\n",
    "    \n",
    "if not os.path.isfile(northing_file) or not os.path.isfile(easting_file):\n",
    "\n",
    "    if not os.path.isfile(aspect_file):\n",
    "        print(f'Creating aspect file {aspect_file}')\n",
    "        gdal.DEMProcessing(aspect_file, dem_file, 'aspect')\n",
    "\n",
    "    with rio.open(aspect_file) as f:\n",
    "        print(f'Calculating northing and easting files')\n",
    "        print(f'Reading aspect file {aspect_file}')\n",
    "        aspect = f.read(1)\n",
    "        aspect[aspect <= -9999] = np.NaN    \n",
    "        northing = np.cos(aspect * np.pi/180.0)\n",
    "        easting = np.sin(aspect * np.pi/180.0)\n",
    "\n",
    "    print(f'Saving northing file {northing_file}')\n",
    "    save_raster_as(northing, northing_file, aspect_file)\n",
    "    print(f'Saving easting file {easting_file}')    \n",
    "    save_raster_as(easting, easting_file, aspect_file)"
   ]
  },
  {
   "cell_type": "code",
   "execution_count": 12,
   "metadata": {},
   "outputs": [
    {
     "name": "stdout",
     "output_type": "stream",
     "text": [
      "Reading vegetation shp shapefiles/tipiforestali_marj.shp\n"
     ]
    }
   ],
   "source": [
    "print(f'Reading vegetation shp {vegetation_shp}')\n",
    "vegetation = gpd.read_file(vegetation_shp)\n",
    "vegetation['encoded_decodifica'], mapping = encode_feature(vegetation, 'Decodifica') \n",
    "vegetation['encoded_tipologia'], mapping_tipologia = encode_feature(vegetation, 'Tipologia')\n",
    "\n",
    "if not os.path.isfile(vegetation_file):\n",
    "    print(f'Rasterizing vegetation')\n",
    "    vegetation_raster = rasterize_numerical_feature(vegetation, dem_file, 'encoded_decodifica')\n",
    "    print(f'Writing vegetation_raster file {vegetation_file}')    \n",
    "    save_raster_as(vegetation_raster, vegetation_file, dem_file)\n",
    "    \n",
    "\n",
    "if not os.path.isfile(vegetation_agg_file):\n",
    "    print(f'Rasterizing vegetation_agg')    \n",
    "    vegetation_agg_raster = rasterize_numerical_feature(vegetation, dem_file, 'id_agg_fv')\n",
    "    print(f'Writing vegetation_agg_raster file {vegetation_agg_file}')\n",
    "    save_raster_as(vegetation_agg_raster, vegetation_agg_file, dem_file)\n",
    "\n",
    "    \n",
    "if not os.path.isfile(vegetation_type_file):\n",
    "    print(f'Rasterizing vegetation_type')    \n",
    "    vegetation_type = rasterize_numerical_feature(vegetation, dem_file, 'encoded_tipologia')\n",
    "    print(f'Writing vegetation_agg_new_raster file {vegetation_type_file}')\n",
    "    save_raster_as(vegetation_type, vegetation_type_file, dem_file)\n",
    "    \n"
   ]
  },
  {
   "cell_type": "code",
   "execution_count": 13,
   "metadata": {},
   "outputs": [
    {
     "name": "stdout",
     "output_type": "stream",
     "text": [
      "Reading file data_100m/vegetation_agg.tiff\n"
     ]
    }
   ],
   "source": [
    "vegetation_agg_raster = read_tiff(vegetation_agg_file)\n",
    "mask = vegetation_agg_raster >= 20\n",
    "indices = np.argwhere(mask)\n",
    "coordinates = extract_coordinates(indices, src)\n"
   ]
  },
  {
   "cell_type": "code",
   "execution_count": 14,
   "metadata": {},
   "outputs": [],
   "source": [
    "if not os.path.isfile(crops_distance_file):\n",
    "    crops = vegetation.query(f'Coltivo == 1')\n",
    "    crops_raster_file = f'{data_dir}/crops.tiff'\n",
    "    crops_raster = rasterize_numerical_feature(crops, dem_file)\n",
    "    save_raster_as(crops_raster, crops_raster_file, dem_file)\n",
    "\n",
    "    write_distance_raster(crops_raster_file, crops_distance_file)"
   ]
  },
  {
   "cell_type": "code",
   "execution_count": 15,
   "metadata": {},
   "outputs": [],
   "source": [
    "if not os.path.isfile(urban_distance_file):\n",
    "    urban = vegetation.query(f'Urbano == 1')\n",
    "    urban_raster_file = f'{data_dir}/urban.tiff'\n",
    "    urban_raster = rasterize_numerical_feature(urban, dem_file)\n",
    "    save_raster_as(urban_raster, urban_raster_file, dem_file)\n",
    "\n",
    "    urban_distance_file = f'{data_dir}/urban_distance.tiff'            \n",
    "    write_distance_raster(urban_raster_file, urban_distance_file)"
   ]
  },
  {
   "cell_type": "code",
   "execution_count": 16,
   "metadata": {},
   "outputs": [],
   "source": [
    "if not os.path.isfile(roads_distance_file):\n",
    "    print(f'Reading roads shp {roads_shp}')\n",
    "    roads = gpd.read_file(roads_shp)\n",
    "\n",
    "    roads_raster = rasterize_numerical_feature(roads, dem_file)\n",
    "    roads_raster_file = f'{data_dir}/roads.tiff'\n",
    "    save_raster_as(roads_raster, roads_raster_file, dem_file)\n",
    "\n",
    "    write_distance_raster(roads_raster_file, roads_distance_file)\n",
    "    "
   ]
  },
  {
   "cell_type": "code",
   "execution_count": 17,
   "metadata": {},
   "outputs": [],
   "source": [
    "if not os.path.isfile(tracks_distance_file):\n",
    "    print(f'Reading tracks shp {tracks_shp}')\n",
    "    tracks = gpd.read_file(tracks_shp)\n",
    "\n",
    "    tracks_raster = rasterize_numerical_feature(tracks, dem_file)\n",
    "    tracks_raster_file = f'{data_dir}/tracks.tiff'\n",
    "    save_raster_as(tracks_raster, tracks_raster_file, dem_file)\n",
    "\n",
    "    write_distance_raster(tracks_raster_file, tracks_distance_file)\n",
    "    "
   ]
  },
  {
   "cell_type": "code",
   "execution_count": 18,
   "metadata": {},
   "outputs": [],
   "source": [
    "if not os.path.isfile(parks_raster_file):\n",
    "    print(f'Reading parks shp {parks_shp}')\n",
    "    parks = gpd.read_file(parks_shp)\n",
    "\n",
    "    parks_raster = rasterize_numerical_feature(parks, dem_file)\n",
    "    save_raster_as(parks_raster, parks_raster_file, dem_file)"
   ]
  },
  {
   "cell_type": "markdown",
   "metadata": {},
   "source": [
    "## DATA PREPARATION"
   ]
  },
  {
   "cell_type": "code",
   "execution_count": 19,
   "metadata": {},
   "outputs": [
    {
     "name": "stdout",
     "output_type": "stream",
     "text": [
      "Reading northing file data_100m/slope.tif\n",
      "Reading file data_100m/slope.tif\n",
      "Reading northing file data_100m/northing.tif\n",
      "Reading file data_100m/northing.tif\n",
      "Reading easting file data_100m/easting.tif\n",
      "Reading file data_100m/easting.tif\n",
      "Reading vegetation_raster file data_100m/vegetation.tiff\n",
      "Reading file data_100m/vegetation.tiff\n",
      "Reading vegetation_agg_raster file data_100m/vegetation_agg.tiff\n",
      "Reading file data_100m/vegetation_agg.tiff\n",
      "Reading vegetation_type file data_100m/vegetation_type.tiff\n",
      "Reading file data_100m/vegetation_type.tiff\n",
      "Reading urban distance file data_100m/urban_distance.tiff\n",
      "Reading file data_100m/urban_distance.tiff\n",
      "Reading roads distance file data_100m/roads_distance.tiff\n",
      "Reading file data_100m/roads_distance.tiff\n",
      "Reading crops distance file data_100m/crops_distance.tiff\n",
      "Reading file data_100m/crops_distance.tiff\n",
      "Reading tracks distance file data_100m/tracks_distance.tiff\n",
      "Reading file data_100m/tracks_distance.tiff\n",
      "Reading parks file data_100m/parks.tiff\n",
      "Reading file data_100m/parks.tiff\n"
     ]
    }
   ],
   "source": [
    "print(f'Reading northing file {slope_file}')\n",
    "slope = read_tiff(slope_file)\n",
    "\n",
    "print(f'Reading northing file {northing_file}')\n",
    "northing = read_tiff(northing_file)\n",
    "    \n",
    "print(f'Reading easting file {easting_file}') \n",
    "easting = read_tiff(easting_file)\n",
    "\n",
    "print(f'Reading vegetation_raster file {vegetation_file}')            \n",
    "vegetation_raster = read_tiff(vegetation_file)\n",
    "    \n",
    "print(f'Reading vegetation_agg_raster file {vegetation_agg_file}')          \n",
    "vegetation_agg_raster = read_tiff(vegetation_agg_file)\n",
    "\n",
    "print(f'Reading vegetation_type file {vegetation_type_file}')          \n",
    "vegetation_type = read_tiff(vegetation_type_file)\n",
    "\n",
    "print(f'Reading urban distance file {urban_distance_file}')\n",
    "urban_distance = read_tiff(urban_distance_file)\n",
    "\n",
    "print(f'Reading roads distance file {roads_distance_file}')\n",
    "roads_distance = read_tiff(roads_distance_file)\n",
    "\n",
    "print(f'Reading crops distance file {crops_distance_file}')\n",
    "crops_distance = read_tiff(crops_distance_file)\n",
    "\n",
    "print(f'Reading tracks distance file {tracks_distance_file}')\n",
    "tracks_distance = read_tiff(tracks_distance_file)\n",
    "\n",
    "print(f'Reading parks file {parks_raster_file}')\n",
    "parks_raster = read_tiff(parks_raster_file)"
   ]
  },
  {
   "cell_type": "code",
   "execution_count": 20,
   "metadata": {},
   "outputs": [
    {
     "name": "stdout",
     "output_type": "stream",
     "text": [
      "Reading vegetation shp shapefiles/tipiforestali_marj.shp\n"
     ]
    }
   ],
   "source": [
    "print(f'Reading vegetation shp {vegetation_shp}')\n",
    "vegetation = gpd.read_file(vegetation_shp)\n",
    "vegetation['encoded_decodifica'], mapping = encode_feature(vegetation, 'Decodifica')\n",
    "vegetation['encoded_tipologia'], mapping_tipologia = encode_feature(vegetation, 'Tipologia')"
   ]
  },
  {
   "cell_type": "code",
   "execution_count": 21,
   "metadata": {},
   "outputs": [],
   "source": [
    "# masking vegetation raster excluding non-vegetated areas\n",
    "mask = (vegetation_agg_raster >= 20) & (vegetation_type != 19) & (dem != -9999) & (slope != -9999) & (northing != -9999) & (easting != -9999)\n",
    "indeces = np.argwhere(mask)\n",
    "coordinates = extract_coordinates(indeces, src)\n",
    "points_geom = [Point(*p) for p in coordinates.T]\n",
    "\n",
    "points = gpd.GeoDataFrame(pd.DataFrame(indeces, columns=['row', 'col']), geometry=points_geom, crs={'init': 'epsg:3003'})\n",
    "points['x'] = points.geometry.x\n",
    "points['y'] = points.geometry.y\n",
    "\n"
   ]
  },
  {
   "cell_type": "code",
   "execution_count": 22,
   "metadata": {},
   "outputs": [
    {
     "name": "stdout",
     "output_type": "stream",
     "text": [
      "Reading fires shp shapefiles/perimetrazioni_1997_2017.shp\n"
     ]
    }
   ],
   "source": [
    "print(f'Reading fires shp {fires_shp}')\n",
    "fires = gpd.read_file(fires_shp)\n",
    "\n",
    "points_envelopes = points.copy()\n",
    "points_envelopes.geometry = points.geometry.buffer(dx/2).envelope\n",
    "\n",
    "presences = gpd.sjoin(points_envelopes, fires)\\\n",
    "             .loc[:, ('x', 'y', 'index_right', 'data', 'anno', 'stagione', 'area_ha')]\n",
    "\n",
    "presences.index.name = 'point_index'\n",
    "presences.rename(columns={'index_right': 'fire_index'}, inplace=True)\n",
    "\n",
    "presences.to_csv(f'{data_dir}/fires.csv')"
   ]
  },
  {
   "cell_type": "markdown",
   "metadata": {},
   "source": [
    "### Extract veg type density for each point neighborood"
   ]
  },
  {
   "cell_type": "code",
   "execution_count": 23,
   "metadata": {},
   "outputs": [
    {
     "name": "stderr",
     "output_type": "stream",
     "text": [
      "100% (37 of 37) |########################| Elapsed Time: 0:00:07 Time:  0:00:07\n"
     ]
    }
   ],
   "source": [
    "from scipy import signal\n",
    "from scipy import misc\n",
    "\n",
    "window_size = 2\n",
    "M = vegetation_type\n",
    "types = np.unique(vegetation_type)\n",
    "\n",
    "types_presence = {}\n",
    "\n",
    "counter = np.ones((window_size*2+1, window_size*2+1))\n",
    "counter[window_size, window_size] = 0\n",
    "counter = counter / np.sum(counter)\n",
    "\n",
    "bar = ProgressBar()\n",
    "for t in bar(types):\n",
    "    density_entry = 'perc_' + mapping_tipologia[t].replace(' ', '_').lower()\n",
    "    types_presence[density_entry] = 100 * signal.convolve2d(M==t, counter, boundary='fill', mode='same')\n",
    "    "
   ]
  },
  {
   "cell_type": "code",
   "execution_count": 25,
   "metadata": {},
   "outputs": [],
   "source": [
    "veg_freq = np.array(list(types_presence.values())).argmax(0)"
   ]
  },
  {
   "cell_type": "markdown",
   "metadata": {},
   "source": [
    "### Merge datasets to points.csv file"
   ]
  },
  {
   "cell_type": "code",
   "execution_count": 32,
   "metadata": {},
   "outputs": [
    {
     "name": "stderr",
     "output_type": "stream",
     "text": [
      "100% (50 of 50) |########################| Elapsed Time: 0:00:00 Time:  0:00:00\n"
     ]
    }
   ],
   "source": [
    "data_dict = {\n",
    "    'dem': dem,\n",
    "    'slope': slope,\n",
    "    'north': northing,\n",
    "    'east': easting,\n",
    "    'veg': vegetation_raster,\n",
    "    'veg_agg': vegetation_agg_raster,\n",
    "    'veg_type': vegetation_type,\n",
    "    'urban_d': urban_distance,\n",
    "    'roads_d': roads_distance,\n",
    "    'crops_d': crops_distance,\n",
    "    'park': parks_raster,\n",
    "    'tracks_d': tracks_distance,\n",
    "    \n",
    "    'veg_freq': veg_freq\n",
    "}\n",
    "data_dict.update(types_presence)\n",
    "\n",
    "mappings = {\n",
    "    'veg': mapping,\n",
    "    'veg_type': mapping_tipologia,\n",
    "    'veg_freq': mapping_tipologia,\n",
    "}\n",
    "\n",
    "bar = ProgressBar()\n",
    "for k, v in bar(data_dict.items()):\n",
    "    points[k] = v[points.row.values, points.col.values]\n",
    "    if k in mappings:\n",
    "        points[k] = points[k].apply(lambda v: mappings[k][v])\n",
    "        "
   ]
  },
  {
   "cell_type": "code",
   "execution_count": 33,
   "metadata": {},
   "outputs": [],
   "source": [
    "points.loc[points['north'].isna(), 'north'] = 0\n",
    "points.loc[points['east'].isna(), 'east'] = 0\n",
    "points.loc[points['roads_d'].isna(), 'roads_d'] = -9999   \n",
    "\n",
    "points.geometry = points.loc[points.index].geometry\n",
    "points.index.name = 'point_index'\n",
    "\n",
    "points_csv = points.copy()\n",
    "points_csv['x'] = points_csv.geometry.x\n",
    "points_csv['y'] = points_csv.geometry.y\n",
    "points_csv = points_csv.drop('geometry', axis=1)\n",
    "\n",
    "points_csv[['x', 'y', 'row', 'col'] + list(data_dict.keys())]\n",
    "\n",
    "points_csv.to_csv(f'{data_dir}/points.csv')\n",
    "\n",
    "# points.to_file(f'{data_dir}/points.geojson', driver='GeoJSON')"
   ]
  }
 ],
 "metadata": {
  "kernelspec": {
   "display_name": "Python 3",
   "language": "python",
   "name": "python3"
  },
  "language_info": {
   "codemirror_mode": {
    "name": "ipython",
    "version": 3
   },
   "file_extension": ".py",
   "mimetype": "text/x-python",
   "name": "python",
   "nbconvert_exporter": "python",
   "pygments_lexer": "ipython3",
   "version": "3.7.3"
  }
 },
 "nbformat": 4,
 "nbformat_minor": 2
}
