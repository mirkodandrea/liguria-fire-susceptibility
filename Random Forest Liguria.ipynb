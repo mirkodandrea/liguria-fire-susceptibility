{
 "cells": [
  {
   "cell_type": "code",
   "execution_count": 42,
   "metadata": {},
   "outputs": [],
   "source": [
    "import os\n",
    "import rasterio as rio\n",
    "import numpy as np\n",
    "import geopandas as gpd\n",
    "import pandas as pd\n",
    "from osgeo import gdal\n",
    "import matplotlib.pyplot as plt\n",
    "from progressbar import ProgressBar\n",
    "\n",
    "plt.rcParams[\"figure.figsize\"] = (28,10)\n",
    "plt.ion()"
   ]
  },
  {
   "cell_type": "code",
   "execution_count": 18,
   "metadata": {},
   "outputs": [],
   "source": [
    "data_dir = 'data_100m'\n",
    "\n",
    "dem_file            = f'{data_dir}/dem.tif'\n",
    "slope_file          = f'{data_dir}/slope.tif'\n",
    "aspect_file         = f'{data_dir}/aspect.tif'\n",
    "northing_file       = f'{data_dir}/northing.tif'\n",
    "easting_file        = f'{data_dir}/easting.tif'\n",
    "\n",
    "urban_distance_file = f'{data_dir}/Urbano.tiff'\n",
    "roads_distance_file = f'{data_dir}/Strade.tiff'\n",
    "crops_distance_file = f'{data_dir}/Coltivo.tiff'\n",
    "\n",
    "vegetation_agg_file = f'{data_dir}/vegetation_agg.tiff'\n",
    "vegetation_file     = f'{data_dir}/vegetation.tiff'\n",
    "\n",
    "fires_shp           = 'shapefiles/perimetrazioni_1997_2017.shp'\n",
    "vegetation_shp      = 'shapefiles/tipiforestali_usosuolo_ctr_fv.shp'"
   ]
  },
  {
   "cell_type": "code",
   "execution_count": 3,
   "metadata": {},
   "outputs": [
    {
     "name": "stdout",
     "output_type": "stream",
     "text": [
      "Reading dem file data_100m/dem.tif\n"
     ]
    }
   ],
   "source": [
    "with rio.open(dem_file) as src:\n",
    "    print(f'Reading dem file {dem_file}')\n",
    "    dem = src.read(1)\n",
    "    dem[dem <= -9999] = np.NaN\n",
    "_, dx, _, _, _, dy = src.transform.to_gdal()    "
   ]
  },
  {
   "cell_type": "markdown",
   "metadata": {},
   "source": [
    "## PREPROCESSING"
   ]
  },
  {
   "cell_type": "code",
   "execution_count": 4,
   "metadata": {},
   "outputs": [],
   "source": [
    "from sklearn import preprocessing\n",
    "from rasterio import features\n",
    "\n",
    "from shapely.geometry import Point, GeometryCollection\n",
    "\n",
    "def extract_coordinates(indices, src):\n",
    "    indices_t = indices.T[::-1, :]\n",
    "\n",
    "    coordinates = np.stack(src.transform * indices_t)\n",
    "\n",
    "    _, dx, _, _, _, dy = src.transform.to_gdal()\n",
    "    coordinates = coordinates + np.array([[dx, dy]]).T/2\n",
    "\n",
    "    #points = [Point(*p) for p in coordinates.T]\n",
    "\n",
    "    return coordinates\n",
    "\n",
    "\n",
    "def encode_feature(gdf, column):\n",
    "    encoder = preprocessing.LabelEncoder()\n",
    "    encoder.fit(gdf[column])\n",
    "    encoded_column = encoder.transform(gdf[column])\n",
    "    mapping = dict(zip(range(len(encoder.classes_)), encoder.classes_,))\n",
    "    return encoded_column, mapping\n",
    "\n",
    "\n",
    "def rasterize_numerical_feature(gdf, column, reference_file):\n",
    "    with rio.open(reference_file) as f:\n",
    "        out = f.read(1)\n",
    "        out_array = np.empty(out.shape)\n",
    "        # this is where we create a generator of geom, value pairs to use in rasterizing\n",
    "        shapes = ((geom,value) for geom, value in zip(gdf.geometry, gdf[column]))\n",
    "\n",
    "        burned = features.rasterize(shapes=shapes, fill=np.NaN, out=out_array, transform=f.transform)\n",
    "    #    out.write_band(1, burned)\n",
    "\n",
    "    return burned\n",
    "\n",
    "def save_raster_as(array, output_file, reference_file, **kwargs):\n",
    "    with rio.open(reference_file) as f:\n",
    "        profile = f.profile\n",
    "        profile.update(**kwargs)\n",
    "\n",
    "        with rio.open(output_file, 'w', **profile) as dst:\n",
    "            dst.write(array.astype(profile['dtype']), 1)\n",
    "            \n",
    "def read_tiff(tiff_file):\n",
    "    with rio.open(tiff_file) as f:\n",
    "        print(f'Reading file {tiff_file}')        \n",
    "        data = f.read(1)\n",
    "    return data"
   ]
  },
  {
   "cell_type": "code",
   "execution_count": 5,
   "metadata": {},
   "outputs": [],
   "source": [
    "def calculate_box_grid(bbox, dx, dy, box_dim):\n",
    "    lon_min, lon_max, lon_step = bbox.left   +dx/2 + box_dim/2, bbox.right +dx/2 - box_dim/2, box_dim\n",
    "    lat_min, lat_max, lat_step = bbox.bottom +dy/2 + box_dim/2, bbox.top   +dy/2 - box_dim/2, box_dim\n",
    "    return lon_min, lon_max, lon_step, lat_min, lat_max, lat_step\n",
    "\n",
    "\n",
    "def build_boxes(lon_min, lon_max, lon_step, lat_min, lat_max, lat_step):\n",
    "    box_lon = np.arange(lon_min, lon_max +lon_step/2, lon_step)\n",
    "    box_lat = np.arange(lat_min, lat_max +lat_step/2, lat_step)\n",
    "    box_lons, box_lats = np.meshgrid(box_lon, box_lat)\n",
    "\n",
    "    return box_lons, box_lats\n",
    "    \n",
    "def get_boxes_rc(coordinates, lon_min, lon_step, lat_min, lat_step):\n",
    "    C = (np.round((coordinates[0, :] - lon_min) / lon_step)).astype('int')\n",
    "    R = (np.round((coordinates[1, :] - lat_min) / lat_step)).astype('int')\n",
    "    RC = np.array((R, C))\n",
    "    return RC\n",
    "\n",
    "def calculate_box_intersections(selected_features, box_lons, box_lats, RC):\n",
    "    unique_rc = np.unique(RC, axis=1)\n",
    "\n",
    "    box_cuts = {}\n",
    "    bar = ProgressBar()\n",
    "    for rc in bar(unique_rc.T):\n",
    "        lon, lat = box_lons[rc[0], rc[1]], box_lats[rc[0], rc[1]]\n",
    "        box = Point(lon, lat).buffer(box_dim + buffer_dim).envelope\n",
    "        box_cut = [box.intersection(g) for g in selected_features.geometry]\n",
    "        box_cuts[(rc[0], rc[1])] = box_cut\n",
    "    \n",
    "    return box_cuts\n",
    "\n",
    "def calculate_distances_on_boxes(coordinates, RC, box_cuts, outside_value=-9999):\n",
    "    bar = ProgressBar()\n",
    "    distances = []\n",
    "    points = []\n",
    "    for p, rc in bar(zip(coordinates.T, RC.T)):\n",
    "        point = Point(*p)\n",
    "        p_distances = [\n",
    "            point.distance(g) \n",
    "            if not g.is_empty \n",
    "            else np.NaN \n",
    "            for g in box_cuts[(rc[0], rc[1])]\n",
    "        ] \n",
    "        d = np.nanmin(p_distances)\n",
    "        d = outside_value if d > buffer_dim else d\n",
    "        distances.append(d)\n",
    "        points.append(point)\n",
    "        \n",
    "    return distances, points"
   ]
  },
  {
   "cell_type": "code",
   "execution_count": 6,
   "metadata": {},
   "outputs": [
    {
     "name": "stdout",
     "output_type": "stream",
     "text": [
      "Reading dem file data_100m/dem.tif\n"
     ]
    }
   ],
   "source": [
    "with rio.open(dem_file) as src:\n",
    "    print(f'Reading dem file {dem_file}')\n",
    "    dem = src.read(1)\n",
    "    dem[dem <= -9999] = np.NaN\n",
    "\n",
    "if not os.path.isfile(slope_file):\n",
    "    print(f'Creating slope file {slope_file}')\n",
    "    gdal.DEMProcessing(slope_file, dem_file, 'slope')\n",
    "\n",
    "    \n",
    "if not os.path.isfile(northing_file) or not os.path.isfile(easting_file):\n",
    "\n",
    "    if not os.path.isfile(aspect_file):\n",
    "        print(f'Creating aspect file {aspect_file}')\n",
    "        gdal.DEMProcessing(aspect_file, dem_file, 'aspect')\n",
    "\n",
    "    with rio.open(aspect_file) as f:\n",
    "        print(f'Calculating northing and easting files')\n",
    "        print(f'Reading aspect file {aspect_file}')\n",
    "        aspect = f.read(1)\n",
    "        aspect[aspect <= -9999] = np.NaN    \n",
    "        northing = np.cos(aspect * np.pi/180.0)\n",
    "        easting = np.sin(aspect * np.pi/180.0)\n",
    "\n",
    "    print(f'Saving northing file {northing_file}')\n",
    "    save_raster_as(northing, northing_file, aspect_file)\n",
    "    print(f'Saving easting file {easting_file}')    \n",
    "    save_raster_as(easting, easting_file, aspect_file)"
   ]
  },
  {
   "cell_type": "code",
   "execution_count": 7,
   "metadata": {},
   "outputs": [
    {
     "name": "stdout",
     "output_type": "stream",
     "text": [
      "Reading vegetation shp shapefiles/tipiforestali_usosuolo_ctr_fv.shp\n"
     ]
    }
   ],
   "source": [
    "print(f'Reading vegetation shp {vegetation_shp}')\n",
    "vegetation = gpd.read_file(vegetation_shp)\n",
    "vegetation['encoded_decodifica'], mapping = encode_feature(vegetation, 'Decodifica')    \n",
    "\n",
    "if not os.path.isfile(vegetation_agg_file):\n",
    "    print(f'Rasterizing vegetation')\n",
    "    vegetation_raster = rasterize_numerical_feature(vegetation, 'encoded_decodifica', dem_file)\n",
    "    print(f'Writing vegetation_raster file {vegetation_agg_file}')    \n",
    "    save_raster_as(vegetation_raster, vegetation_file, dem_file)\n",
    "    \n",
    "\n",
    "if not os.path.isfile(vegetation_agg_file):\n",
    "    print(f'Rasterizing vegetation_agg')    \n",
    "    vegetation_agg_raster = rasterize_numerical_feature(vegetation, 'id_agg_fv', dem_file)\n",
    "    print(f'Writing vegetation_agg_raster file {vegetation_agg_file}')\n",
    "    save_raster_as(vegetation_agg_raster, vegetation_agg_file, dem_file)\n",
    "    \n",
    "if not os.path.isfile(vegetation_agg_file):\n",
    "    print(f'Rasterizing vegetation_agg')    \n",
    "    vegetation_agg_raster = rasterize_numerical_feature(vegetation, 'id_agg_fv', dem_file)\n",
    "    print(f'Writing vegetation_agg_raster file {vegetation_agg_file}')\n",
    "    save_raster_as(vegetation_agg_raster, vegetation_agg_file, dem_file)    "
   ]
  },
  {
   "cell_type": "code",
   "execution_count": 7,
   "metadata": {},
   "outputs": [],
   "source": [
    "mask = vegetation_raster > 0\n",
    "indices = np.argwhere(mask)\n",
    "coordinates = extract_coordinates(indices, src)"
   ]
  },
  {
   "cell_type": "code",
   "execution_count": 8,
   "metadata": {},
   "outputs": [],
   "source": [
    "bbox = src.bounds\n",
    "box_dim = 10000.0\n",
    "buffer_dim = 3000.0"
   ]
  },
  {
   "cell_type": "code",
   "execution_count": 9,
   "metadata": {},
   "outputs": [],
   "source": [
    "distance_types = 'Strade', 'Coltivo', 'Urbano'\n",
    "\n",
    "for distance_type in distance_types:\n",
    "    distance_file = f'{data_dir}/{distance_type}.tiff'\n",
    "\n",
    "    if not os.path.isfile(distance_file):\n",
    "        print(f'Calculating distance {distance_type}')        \n",
    "        selected_features = vegetation.query(f'{distance_type} == 1')\n",
    "\n",
    "        lon_min, lon_max, lon_step, lat_min, lat_max, lat_step = calculate_box_grid(bbox, dx, dy, box_dim)\n",
    "        box_lons, box_lats = build_boxes(lon_min, lon_max, lon_step, lat_min, lat_max, lat_step)\n",
    "        RC = get_boxes_rc(coordinates, lon_min, lon_step, lat_min, lat_step)\n",
    "        box_cuts = calculate_box_intersections(selected_features, box_lons, box_lats, RC)\n",
    "\n",
    "        distances, points = calculate_distances_on_boxes(coordinates, RC, box_cuts)\n",
    "\n",
    "        data = np.empty_like(dem)\n",
    "        data[mask] = distances\n",
    "        \n",
    "        print(f'Writing distance file {distance_file}')\n",
    "        save_raster_as(data, distance_file, dem_file)\n",
    "        "
   ]
  },
  {
   "cell_type": "markdown",
   "metadata": {},
   "source": [
    "## DATA PREPARATION"
   ]
  },
  {
   "cell_type": "code",
   "execution_count": 10,
   "metadata": {},
   "outputs": [
    {
     "name": "stdout",
     "output_type": "stream",
     "text": [
      "Reading northing file data_100m/slope.tif\n",
      "Reading file data_100m/slope.tif\n",
      "Reading northing file data_100m/northing.tif\n",
      "Reading file data_100m/northing.tif\n",
      "Reading easting file data_100m/easting.tif\n",
      "Reading file data_100m/easting.tif\n",
      "Reading vegetation_raster file data_100m/vegetation.tiff\n",
      "Reading file data_100m/vegetation.tiff\n",
      "Reading vegetation_agg_raster file data_100m/vegetation_agg.tiff\n",
      "Reading file data_100m/vegetation_agg.tiff\n",
      "Reading urban distance file data_100m/Urbano.tiff\n",
      "Reading file data_100m/Urbano.tiff\n",
      "Reading roads distance file data_100m/Strade.tiff\n",
      "Reading file data_100m/Strade.tiff\n",
      "Reading roads distance file data_100m/Coltivo.tiff\n",
      "Reading file data_100m/Coltivo.tiff\n"
     ]
    }
   ],
   "source": [
    "print(f'Reading northing file {slope_file}')\n",
    "slope = read_tiff(slope_file)\n",
    "\n",
    "print(f'Reading northing file {northing_file}')\n",
    "northing = read_tiff(northing_file)\n",
    "    \n",
    "print(f'Reading easting file {easting_file}') \n",
    "easting = read_tiff(easting_file)\n",
    "\n",
    "print(f'Reading vegetation_raster file {vegetation_file}')            \n",
    "vegetation_raster = read_tiff(vegetation_file)\n",
    "    \n",
    "print(f'Reading vegetation_agg_raster file {vegetation_agg_file}')          \n",
    "vegetation_agg_raster = read_tiff(vegetation_agg_file)\n",
    "\n",
    "print(f'Reading urban distance file {urban_distance_file}')\n",
    "urban_distance = read_tiff(urban_distance_file)\n",
    "\n",
    "print(f'Reading roads distance file {roads_distance_file}')\n",
    "roads_distance = read_tiff(roads_distance_file)\n",
    "\n",
    "print(f'Reading roads distance file {crops_distance_file}')\n",
    "crops_distance = read_tiff(crops_distance_file)"
   ]
  },
  {
   "cell_type": "code",
   "execution_count": 11,
   "metadata": {},
   "outputs": [
    {
     "name": "stdout",
     "output_type": "stream",
     "text": [
      "Reading vegetation shp shapefiles/tipiforestali_usosuolo_ctr_fv.shp\n"
     ]
    }
   ],
   "source": [
    "print(f'Reading vegetation shp {vegetation_shp}')\n",
    "vegetation = gpd.read_file(vegetation_shp)\n",
    "vegetation['encoded_decodifica'], mapping = encode_feature(vegetation, 'Decodifica')"
   ]
  },
  {
   "cell_type": "code",
   "execution_count": 44,
   "metadata": {},
   "outputs": [],
   "source": [
    "# masking vegetation raster excluding non-vegetated areas\n",
    "mask = vegetation_agg_raster >= 20\n",
    "indeces = np.argwhere(mask)\n",
    "coordinates = extract_coordinates(indeces, src)\n",
    "points_geom = [Point(*p) for p in coordinates.T]\n",
    "\n",
    "points = gpd.GeoDataFrame(pd.DataFrame(indeces, columns=['row', 'col']), geometry=points_geom, crs={'init': 'epsg:3003'})"
   ]
  },
  {
   "cell_type": "code",
   "execution_count": 45,
   "metadata": {},
   "outputs": [],
   "source": [
    "points_envelope_df = points_df.copy()\n",
    "points_envelope_df.geometry = points_df.geometry.buffer(dx/2).envelope"
   ]
  },
  {
   "cell_type": "code",
   "execution_count": 46,
   "metadata": {},
   "outputs": [],
   "source": [
    "print(f'Reading fires shp {fires_shp}')\n",
    "fires = gpd.read_file(fires_shp)"
   ]
  },
  {
   "cell_type": "code",
   "execution_count": 53,
   "metadata": {},
   "outputs": [],
   "source": [
    "train_fires = fires.query('anno < 2013')\n",
    "test_fires = fires.query('anno >= 2013')"
   ]
  },
  {
   "cell_type": "code",
   "execution_count": 54,
   "metadata": {},
   "outputs": [],
   "source": [
    "train_fp = gpd.sjoin(points_envelope_df, train_fires)\n",
    "test_fp = gpd.sjoin(points_envelope_df, test_fires)"
   ]
  },
  {
   "cell_type": "code",
   "execution_count": 49,
   "metadata": {},
   "outputs": [],
   "source": [
    "absence_idx = ~points_df.index.isin(train_fp.index_right)\n",
    "absence_df = points_df.iloc[points_df.index[absence_idx]]"
   ]
  },
  {
   "cell_type": "code",
   "execution_count": 56,
   "metadata": {},
   "outputs": [],
   "source": [
    "data_dict = {\n",
    "    'slope': slope,\n",
    "    'northing': northing,\n",
    "    'easting': easting,\n",
    "    'vegetation': vegetation_raster,\n",
    "    'vegetation_agg': vegetation_agg_raster,\n",
    "    'urban_distance': urban_distance,\n",
    "    'roads_distance': roads_distance,\n",
    "    'crops_distance': crops_distance\n",
    "}"
   ]
  },
  {
   "cell_type": "code",
   "execution_count": 82,
   "metadata": {},
   "outputs": [
    {
     "data": {
      "text/plain": [
       "<matplotlib.image.AxesImage at 0x1a25ec2400>"
      ]
     },
     "execution_count": 82,
     "metadata": {},
     "output_type": "execute_result"
    },
    {
     "data": {
      "image/png": "[encoded data removed]",
      "text/plain": [
       "<Figure size 432x288 with 1 Axes>"
      ]
     },
     "metadata": {
      "needs_background": "light"
     },
     "output_type": "display_data"
    }
   ],
   "source": [
    "plt.imshow(mask_absence)"
   ]
  },
  {
   "cell_type": "code",
   "execution_count": null,
   "metadata": {},
   "outputs": [],
   "source": []
  }
 ],
 "metadata": {
  "kernelspec": {
   "display_name": "Python 3",
   "language": "python",
   "name": "python3"
  },
  "language_info": {
   "codemirror_mode": {
    "name": "ipython",
    "version": 3
   },
   "file_extension": ".py",
   "mimetype": "text/x-python",
   "name": "python",
   "nbconvert_exporter": "python",
   "pygments_lexer": "ipython3",
   "version": "3.7.3"
  }
 },
 "nbformat": 4,
 "nbformat_minor": 2
}
